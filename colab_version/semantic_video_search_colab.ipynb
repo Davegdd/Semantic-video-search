{
  "nbformat": 4,
  "nbformat_minor": 0,
  "metadata": {
    "colab": {
      "provenance": []
    },
    "kernelspec": {
      "name": "python3",
      "display_name": "Python 3"
    },
    "language_info": {
      "name": "python"
    },
    "accelerator": "GPU",
    "gpuClass": "standard"
  },
  "cells": [
    {
      "cell_type": "markdown",
      "source": [
        "Please select: Runtime > Change runtime type > Hardware accelerator: GPU and then run the following cells:"
      ],
      "metadata": {
        "id": "SC_o9gJkjBRR"
      }
    },
    {
      "cell_type": "code",
      "execution_count": null,
      "metadata": {
        "id": "4Fc25jwvi6xx"
      },
      "outputs": [],
      "source": [
        "# dependencies install\n",
        "!pip install uvicorn\n",
        "!pip install fastapi\n",
        "!pip install decord\n",
        "!pip install pytube\n",
        "!pip install transformers\n",
        "!pip install streamlit -q\n",
        "!pip install torch\n",
        "!pip install gdown"
      ]
    },
    {
      "cell_type": "code",
      "source": [
        "# app download\n",
        "!gdown 1CK65XILiQEHqN2glRVDsu_vlBj8LeYLR\n",
        "!unrar x /content/semantic_video_search_colab.rar"
      ],
      "metadata": {
        "id": "uoPj7A-ip1NF"
      },
      "execution_count": null,
      "outputs": []
    },
    {
      "cell_type": "markdown",
      "source": [
        "Run the cell below and click on \"your url is:...\", the app will open in your browser:"
      ],
      "metadata": {
        "id": "c8fqEszKvnJo"
      }
    },
    {
      "cell_type": "code",
      "source": [
        "# run\n",
        "!streamlit run /content/SEMANTIC_VIDEO_SEARCH_colab.py & npx localtunnel --port 8501"
      ],
      "metadata": {
        "id": "pSi66gRvj3dY"
      },
      "execution_count": null,
      "outputs": []
    }
  ]
}